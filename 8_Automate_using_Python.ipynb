{
  "nbformat": 4,
  "nbformat_minor": 0,
  "metadata": {
    "colab": {
      "name": "8. Automate using Python",
      "provenance": []
    },
    "kernelspec": {
      "name": "python3",
      "display_name": "Python 3"
    },
    "language_info": {
      "name": "python"
    }
  },
  "cells": [
    {
      "cell_type": "code",
      "metadata": {
        "id": "4WZO1IbZ8j4Q"
      },
      "source": [
        "import numpy as np"
      ],
      "execution_count": null,
      "outputs": []
    },
    {
      "cell_type": "code",
      "metadata": {
        "id": "0fq_d8z8XFux"
      },
      "source": [
        "lst = [1,2,3,4,5,6,7,8,9,10]"
      ],
      "execution_count": null,
      "outputs": []
    },
    {
      "cell_type": "code",
      "metadata": {
        "colab": {
          "base_uri": "https://localhost:8080/"
        },
        "id": "kntNadzrXKJd",
        "outputId": "ed22449a-ce23-42d2-925a-bb97dc3ab360"
      },
      "source": [
        "q = 0\n",
        "\n",
        "for i in lst:\n",
        "  if (i > 5):\n",
        "    print(i)\n",
        "    q += 1\n",
        "\n",
        "print(q)"
      ],
      "execution_count": null,
      "outputs": [
        {
          "output_type": "stream",
          "text": [
            "6\n",
            "7\n",
            "8\n",
            "9\n",
            "10\n",
            "5\n"
          ],
          "name": "stdout"
        }
      ]
    },
    {
      "cell_type": "code",
      "metadata": {
        "id": "9lr00kTYXUnP"
      },
      "source": [
        "lst = np.array([1,2,3,4,5,6,7,8,9,10])"
      ],
      "execution_count": null,
      "outputs": []
    },
    {
      "cell_type": "code",
      "metadata": {
        "colab": {
          "base_uri": "https://localhost:8080/"
        },
        "id": "txbhBRgVXc5Q",
        "outputId": "8606b930-91c8-481f-b3dd-77436e0abc4e"
      },
      "source": [
        "print(len(lst[lst > 5]))\n",
        "print(lst[lst>5])"
      ],
      "execution_count": null,
      "outputs": [
        {
          "output_type": "stream",
          "text": [
            "5\n",
            "[ 6  7  8  9 10]\n"
          ],
          "name": "stdout"
        }
      ]
    },
    {
      "cell_type": "code",
      "metadata": {
        "colab": {
          "base_uri": "https://localhost:8080/"
        },
        "id": "AUuamHsDXdfh",
        "outputId": "6ebd9869-77e0-4078-9827-7ae429961488"
      },
      "source": [
        "print(len(lst[lst % 3 == 0]))\n",
        "print(lst[lst % 3 == 0])"
      ],
      "execution_count": null,
      "outputs": [
        {
          "output_type": "stream",
          "text": [
            "3\n",
            "[3 6 9]\n"
          ],
          "name": "stdout"
        }
      ]
    }
  ]
}