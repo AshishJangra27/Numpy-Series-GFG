{
  "nbformat": 4,
  "nbformat_minor": 0,
  "metadata": {
    "colab": {
      "name": "2. Reshape and Random Number Generator",
      "provenance": []
    },
    "kernelspec": {
      "name": "python3",
      "display_name": "Python 3"
    },
    "language_info": {
      "name": "python"
    }
  },
  "cells": [
    {
      "cell_type": "code",
      "metadata": {
        "id": "2Q2hY3_4t2Dh"
      },
      "source": [
        "import numpy as np"
      ],
      "execution_count": null,
      "outputs": []
    },
    {
      "cell_type": "code",
      "metadata": {
        "colab": {
          "base_uri": "https://localhost:8080/"
        },
        "id": "uXh8fGjsurc6",
        "outputId": "c2cce4f1-a2c9-466e-a776-4af6151ad8d1"
      },
      "source": [
        "np.random.random((3,3))"
      ],
      "execution_count": null,
      "outputs": [
        {
          "output_type": "execute_result",
          "data": {
            "text/plain": [
              "array([[0.1915497 , 0.94931617, 0.95339439],\n",
              "       [0.82027759, 0.78887533, 0.87004608],\n",
              "       [0.7780673 , 0.79305259, 0.17732751]])"
            ]
          },
          "metadata": {},
          "execution_count": 2
        }
      ]
    },
    {
      "cell_type": "code",
      "metadata": {
        "id": "L6LTqVL_u3JP"
      },
      "source": [
        "arr = np.random.random((3,3))"
      ],
      "execution_count": null,
      "outputs": []
    },
    {
      "cell_type": "code",
      "metadata": {
        "colab": {
          "base_uri": "https://localhost:8080/"
        },
        "id": "ychgo0-8vFX8",
        "outputId": "2f95ab26-4822-4769-ca94-e69fe448686d"
      },
      "source": [
        "np.arange(1,10,3)"
      ],
      "execution_count": null,
      "outputs": [
        {
          "output_type": "execute_result",
          "data": {
            "text/plain": [
              "array([1, 4, 7])"
            ]
          },
          "metadata": {},
          "execution_count": 13
        }
      ]
    },
    {
      "cell_type": "code",
      "metadata": {
        "colab": {
          "base_uri": "https://localhost:8080/"
        },
        "id": "AI_vfwwHvdYd",
        "outputId": "4ef373ed-1000-468c-a896-cfbefac00eb6"
      },
      "source": [
        "np.linspace(1,7,10)"
      ],
      "execution_count": null,
      "outputs": [
        {
          "output_type": "execute_result",
          "data": {
            "text/plain": [
              "array([1.        , 1.66666667, 2.33333333, 3.        , 3.66666667,\n",
              "       4.33333333, 5.        , 5.66666667, 6.33333333, 7.        ])"
            ]
          },
          "metadata": {},
          "execution_count": 15
        }
      ]
    },
    {
      "cell_type": "code",
      "metadata": {
        "id": "T_WRwsfivxQn"
      },
      "source": [
        "arr = np.random.random((4,3))"
      ],
      "execution_count": null,
      "outputs": []
    },
    {
      "cell_type": "code",
      "metadata": {
        "colab": {
          "base_uri": "https://localhost:8080/"
        },
        "id": "-EEVsXU6wFqz",
        "outputId": "94bbecb8-409c-4494-c617-cf0590337e69"
      },
      "source": [
        "arr"
      ],
      "execution_count": null,
      "outputs": [
        {
          "output_type": "execute_result",
          "data": {
            "text/plain": [
              "array([[0.49587451, 0.32423578, 0.71319889],\n",
              "       [0.12025477, 0.77100037, 0.67297886],\n",
              "       [0.86135757, 0.35594741, 0.21921171],\n",
              "       [0.25721803, 0.36828225, 0.66805896]])"
            ]
          },
          "metadata": {},
          "execution_count": 19
        }
      ]
    },
    {
      "cell_type": "code",
      "metadata": {
        "id": "MF1IGDg_wKID"
      },
      "source": [
        "arr = np.reshape(arr , (3,4))"
      ],
      "execution_count": null,
      "outputs": []
    },
    {
      "cell_type": "code",
      "metadata": {
        "colab": {
          "base_uri": "https://localhost:8080/"
        },
        "id": "YFsdsjCtwSNj",
        "outputId": "585cd58a-0b7e-4afd-954b-f5ca17578259"
      },
      "source": [
        "arr"
      ],
      "execution_count": null,
      "outputs": [
        {
          "output_type": "execute_result",
          "data": {
            "text/plain": [
              "array([[0.49587451, 0.32423578, 0.71319889, 0.12025477],\n",
              "       [0.77100037, 0.67297886, 0.86135757, 0.35594741],\n",
              "       [0.21921171, 0.25721803, 0.36828225, 0.66805896]])"
            ]
          },
          "metadata": {},
          "execution_count": 22
        }
      ]
    },
    {
      "cell_type": "code",
      "metadata": {
        "id": "TZxBTe6BwTkE"
      },
      "source": [
        "arr = np.reshape(arr , (6,2))"
      ],
      "execution_count": null,
      "outputs": []
    },
    {
      "cell_type": "code",
      "metadata": {
        "colab": {
          "base_uri": "https://localhost:8080/"
        },
        "id": "UmBJCPfQwaII",
        "outputId": "23db96a0-d92d-456b-df7c-e85ae5053f18"
      },
      "source": [
        "arr"
      ],
      "execution_count": null,
      "outputs": [
        {
          "output_type": "execute_result",
          "data": {
            "text/plain": [
              "array([[0.49587451, 0.32423578],\n",
              "       [0.71319889, 0.12025477],\n",
              "       [0.77100037, 0.67297886],\n",
              "       [0.86135757, 0.35594741],\n",
              "       [0.21921171, 0.25721803],\n",
              "       [0.36828225, 0.66805896]])"
            ]
          },
          "metadata": {},
          "execution_count": 24
        }
      ]
    },
    {
      "cell_type": "code",
      "metadata": {
        "colab": {
          "base_uri": "https://localhost:8080/"
        },
        "id": "SaCV99_8wapX",
        "outputId": "03369502-7319-48ae-c3e4-f58277689584"
      },
      "source": [
        "arr.flatten()"
      ],
      "execution_count": null,
      "outputs": [
        {
          "output_type": "execute_result",
          "data": {
            "text/plain": [
              "array([0.49587451, 0.32423578, 0.71319889, 0.12025477, 0.77100037,\n",
              "       0.67297886, 0.86135757, 0.35594741, 0.21921171, 0.25721803,\n",
              "       0.36828225, 0.66805896])"
            ]
          },
          "metadata": {},
          "execution_count": 25
        }
      ]
    }
  ]
}