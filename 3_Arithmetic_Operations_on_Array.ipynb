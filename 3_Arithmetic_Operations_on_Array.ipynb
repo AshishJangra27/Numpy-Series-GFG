{
  "nbformat": 4,
  "nbformat_minor": 0,
  "metadata": {
    "colab": {
      "name": "3. Arithmetic Operations on Array",
      "provenance": []
    },
    "kernelspec": {
      "name": "python3",
      "display_name": "Python 3"
    },
    "language_info": {
      "name": "python"
    }
  },
  "cells": [
    {
      "cell_type": "code",
      "metadata": {
        "id": "hRWveCutw8aI"
      },
      "source": [
        "import numpy as np"
      ],
      "execution_count": null,
      "outputs": []
    },
    {
      "cell_type": "code",
      "metadata": {
        "id": "D62bybe4yd28"
      },
      "source": [
        "arr = np.array([1,2,3,4,5,6])"
      ],
      "execution_count": null,
      "outputs": []
    },
    {
      "cell_type": "code",
      "metadata": {
        "colab": {
          "base_uri": "https://localhost:8080/"
        },
        "id": "ZhiGkJBEylbH",
        "outputId": "181485ba-d33f-41c8-bb51-2e5e896ee874"
      },
      "source": [
        "arr"
      ],
      "execution_count": null,
      "outputs": [
        {
          "output_type": "execute_result",
          "data": {
            "text/plain": [
              "array([1, 2, 3, 4, 5, 6])"
            ]
          },
          "metadata": {},
          "execution_count": 3
        }
      ]
    },
    {
      "cell_type": "code",
      "metadata": {
        "colab": {
          "base_uri": "https://localhost:8080/"
        },
        "id": "OIh78u7IyluA",
        "outputId": "0a134916-7a45-40b7-cb3d-8ccadfc4d7ab"
      },
      "source": [
        "print(arr + 1)\n",
        "print(arr - 1)\n",
        "print(arr * 5)\n",
        "print(arr / 2)\n",
        "print(arr ** 3)"
      ],
      "execution_count": null,
      "outputs": [
        {
          "output_type": "stream",
          "text": [
            "[2 3 4 5 6 7]\n",
            "[0 1 2 3 4 5]\n",
            "[ 5 10 15 20 25 30]\n",
            "[0.5 1.  1.5 2.  2.5 3. ]\n",
            "[  1   8  27  64 125 216]\n"
          ],
          "name": "stdout"
        }
      ]
    },
    {
      "cell_type": "code",
      "metadata": {
        "colab": {
          "base_uri": "https://localhost:8080/"
        },
        "id": "HgeVRkQNzU6I",
        "outputId": "54d2b514-f619-4239-b054-1bc1e2c7f0a1"
      },
      "source": [
        "arr"
      ],
      "execution_count": null,
      "outputs": [
        {
          "output_type": "execute_result",
          "data": {
            "text/plain": [
              "array([1, 2, 3, 4, 5, 6])"
            ]
          },
          "metadata": {},
          "execution_count": 14
        }
      ]
    },
    {
      "cell_type": "code",
      "metadata": {
        "id": "QznCDjttyvQ_"
      },
      "source": [
        "arr = arr + 1"
      ],
      "execution_count": null,
      "outputs": []
    },
    {
      "cell_type": "code",
      "metadata": {
        "colab": {
          "base_uri": "https://localhost:8080/"
        },
        "id": "k9O-Qk-qzWKP",
        "outputId": "8a54ecbb-c454-4f00-fc21-a503311e5272"
      },
      "source": [
        "arr"
      ],
      "execution_count": null,
      "outputs": [
        {
          "output_type": "execute_result",
          "data": {
            "text/plain": [
              "array([1, 2, 3, 4, 5, 6])"
            ]
          },
          "metadata": {},
          "execution_count": 22
        }
      ]
    },
    {
      "cell_type": "code",
      "metadata": {
        "id": "KXjjrTWNzW0N"
      },
      "source": [
        "arr += 1"
      ],
      "execution_count": null,
      "outputs": []
    },
    {
      "cell_type": "code",
      "metadata": {
        "colab": {
          "base_uri": "https://localhost:8080/"
        },
        "id": "C8GWN1irzcG4",
        "outputId": "1ad8f910-ce02-4868-a408-d4fcf144f8da"
      },
      "source": [
        "arr"
      ],
      "execution_count": null,
      "outputs": [
        {
          "output_type": "execute_result",
          "data": {
            "text/plain": [
              "array([2, 3, 4, 5, 6, 7])"
            ]
          },
          "metadata": {},
          "execution_count": 24
        }
      ]
    },
    {
      "cell_type": "code",
      "metadata": {
        "id": "VXAnIF2vzcyu"
      },
      "source": [
        "arr *= 2"
      ],
      "execution_count": null,
      "outputs": []
    },
    {
      "cell_type": "code",
      "metadata": {
        "colab": {
          "base_uri": "https://localhost:8080/"
        },
        "id": "CPgMOV9_zgYd",
        "outputId": "a5d433a5-d732-4a84-dbea-7bfcd5d38c0a"
      },
      "source": [
        "arr"
      ],
      "execution_count": null,
      "outputs": [
        {
          "output_type": "execute_result",
          "data": {
            "text/plain": [
              "array([ 4,  6,  8, 10, 12, 14])"
            ]
          },
          "metadata": {},
          "execution_count": 26
        }
      ]
    },
    {
      "cell_type": "code",
      "metadata": {
        "colab": {
          "base_uri": "https://localhost:8080/"
        },
        "id": "ccwMIHdrziDF",
        "outputId": "ab880848-4288-41c8-f908-2c7520a58f1d"
      },
      "source": [
        "arr.max()"
      ],
      "execution_count": null,
      "outputs": [
        {
          "output_type": "execute_result",
          "data": {
            "text/plain": [
              "14"
            ]
          },
          "metadata": {},
          "execution_count": 27
        }
      ]
    },
    {
      "cell_type": "code",
      "metadata": {
        "colab": {
          "base_uri": "https://localhost:8080/"
        },
        "id": "E7l5i5wRz1i9",
        "outputId": "edb81656-705c-4059-d14d-315293e51ac3"
      },
      "source": [
        "arr.min()"
      ],
      "execution_count": null,
      "outputs": [
        {
          "output_type": "execute_result",
          "data": {
            "text/plain": [
              "4"
            ]
          },
          "metadata": {},
          "execution_count": 28
        }
      ]
    },
    {
      "cell_type": "code",
      "metadata": {
        "id": "sWIHXtu4z4OJ"
      },
      "source": [
        "arr = np.array([[1,2,3],\n",
        "                [4,5,6],\n",
        "                [7,8,9]])"
      ],
      "execution_count": null,
      "outputs": []
    },
    {
      "cell_type": "code",
      "metadata": {
        "colab": {
          "base_uri": "https://localhost:8080/"
        },
        "id": "lnsPDsfz0DRH",
        "outputId": "f3929c41-5ce9-4534-88bd-2fc8cfddf674"
      },
      "source": [
        "arr"
      ],
      "execution_count": null,
      "outputs": [
        {
          "output_type": "execute_result",
          "data": {
            "text/plain": [
              "array([[1, 2, 3],\n",
              "       [4, 5, 6],\n",
              "       [7, 8, 9]])"
            ]
          },
          "metadata": {},
          "execution_count": 31
        }
      ]
    },
    {
      "cell_type": "code",
      "metadata": {
        "colab": {
          "base_uri": "https://localhost:8080/"
        },
        "id": "UIPjK30f0GCO",
        "outputId": "20edf2eb-b10c-4a6b-f009-32854ad79a7a"
      },
      "source": [
        "arr.max(axis = 0) # Max element column-wise"
      ],
      "execution_count": null,
      "outputs": [
        {
          "output_type": "execute_result",
          "data": {
            "text/plain": [
              "array([7, 8, 9])"
            ]
          },
          "metadata": {},
          "execution_count": 32
        }
      ]
    },
    {
      "cell_type": "code",
      "metadata": {
        "colab": {
          "base_uri": "https://localhost:8080/"
        },
        "id": "h2vqtrGA0NjZ",
        "outputId": "1aee4de8-fab3-4b16-ca03-c6dcd0c5c2b4"
      },
      "source": [
        "arr.max(axis = 1) # Max element row-wise"
      ],
      "execution_count": null,
      "outputs": [
        {
          "output_type": "execute_result",
          "data": {
            "text/plain": [
              "array([3, 6, 9])"
            ]
          },
          "metadata": {},
          "execution_count": 33
        }
      ]
    },
    {
      "cell_type": "code",
      "metadata": {
        "colab": {
          "base_uri": "https://localhost:8080/"
        },
        "id": "PEHgM_DC0YHA",
        "outputId": "f1e33ee4-2821-406f-f1bf-92099166b9a2"
      },
      "source": [
        "arr.min(axis = 0) # Min element column-wise"
      ],
      "execution_count": null,
      "outputs": [
        {
          "output_type": "execute_result",
          "data": {
            "text/plain": [
              "array([1, 2, 3])"
            ]
          },
          "metadata": {},
          "execution_count": 34
        }
      ]
    },
    {
      "cell_type": "code",
      "metadata": {
        "colab": {
          "base_uri": "https://localhost:8080/"
        },
        "id": "jNId0avb0cBH",
        "outputId": "be7b0ed1-4bd1-4fc5-e37f-3cbef6d5cc30"
      },
      "source": [
        "arr.min(axis = 1) # Min element row-wise"
      ],
      "execution_count": null,
      "outputs": [
        {
          "output_type": "execute_result",
          "data": {
            "text/plain": [
              "array([1, 4, 7])"
            ]
          },
          "metadata": {},
          "execution_count": 35
        }
      ]
    },
    {
      "cell_type": "code",
      "metadata": {
        "id": "utM8Mf0B0gFw",
        "colab": {
          "base_uri": "https://localhost:8080/"
        },
        "outputId": "44ece0da-1c35-4fa4-bcaa-a7d84f988180"
      },
      "source": [
        "arr.sum()"
      ],
      "execution_count": null,
      "outputs": [
        {
          "output_type": "execute_result",
          "data": {
            "text/plain": [
              "45"
            ]
          },
          "metadata": {},
          "execution_count": 36
        }
      ]
    }
  ]
}