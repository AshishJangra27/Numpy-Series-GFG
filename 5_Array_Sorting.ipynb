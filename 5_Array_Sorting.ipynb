{
  "nbformat": 4,
  "nbformat_minor": 0,
  "metadata": {
    "colab": {
      "name": "5. Array Sorting",
      "provenance": []
    },
    "kernelspec": {
      "name": "python3",
      "display_name": "Python 3"
    },
    "language_info": {
      "name": "python"
    }
  },
  "cells": [
    {
      "cell_type": "code",
      "metadata": {
        "id": "jHG6hrYecLoo"
      },
      "source": [
        "import numpy as np"
      ],
      "execution_count": null,
      "outputs": []
    },
    {
      "cell_type": "code",
      "metadata": {
        "id": "GHEXYqw7dU60"
      },
      "source": [
        "arr = np.array([[7,3,8,6,4], [7,2,9,8,6],[5,4,2,3,1]])"
      ],
      "execution_count": null,
      "outputs": []
    },
    {
      "cell_type": "code",
      "metadata": {
        "colab": {
          "base_uri": "https://localhost:8080/"
        },
        "id": "S-4fWLCPdeae",
        "outputId": "64bbb3d3-9ffc-4343-8ffa-fea91237e379"
      },
      "source": [
        "arr"
      ],
      "execution_count": null,
      "outputs": [
        {
          "output_type": "execute_result",
          "data": {
            "text/plain": [
              "array([[7, 3, 8, 6, 4],\n",
              "       [7, 2, 9, 8, 6],\n",
              "       [5, 4, 2, 3, 1]])"
            ]
          },
          "metadata": {},
          "execution_count": 3
        }
      ]
    },
    {
      "cell_type": "code",
      "metadata": {
        "colab": {
          "base_uri": "https://localhost:8080/"
        },
        "id": "eeFiCXGMde5V",
        "outputId": "4b339efb-c88b-49aa-9c32-905abcdc890f"
      },
      "source": [
        "np.sort(arr , axis = 1, kind = 'mergesort')"
      ],
      "execution_count": null,
      "outputs": [
        {
          "output_type": "execute_result",
          "data": {
            "text/plain": [
              "array([[3, 4, 6, 7, 8],\n",
              "       [2, 6, 7, 8, 9],\n",
              "       [1, 2, 3, 4, 5]])"
            ]
          },
          "metadata": {},
          "execution_count": 4
        }
      ]
    },
    {
      "cell_type": "code",
      "metadata": {
        "colab": {
          "base_uri": "https://localhost:8080/"
        },
        "id": "vVEdXTBvd9-4",
        "outputId": "4f93e69d-97fc-4671-ab01-22e85b1aeb20"
      },
      "source": [
        "np.sort(arr , axis = 0, kind = 'mergesort')"
      ],
      "execution_count": null,
      "outputs": [
        {
          "output_type": "execute_result",
          "data": {
            "text/plain": [
              "array([[5, 2, 2, 3, 1],\n",
              "       [7, 3, 8, 6, 4],\n",
              "       [7, 4, 9, 8, 6]])"
            ]
          },
          "metadata": {},
          "execution_count": 5
        }
      ]
    },
    {
      "cell_type": "code",
      "metadata": {
        "colab": {
          "base_uri": "https://localhost:8080/"
        },
        "id": "A56BU0BceKzx",
        "outputId": "6dfad643-15e8-4b21-f971-cb12150c0a07"
      },
      "source": [
        "np.sort(arr , kind = 'mergesort')"
      ],
      "execution_count": null,
      "outputs": [
        {
          "output_type": "execute_result",
          "data": {
            "text/plain": [
              "array([[3, 4, 6, 7, 8],\n",
              "       [2, 6, 7, 8, 9],\n",
              "       [1, 2, 3, 4, 5]])"
            ]
          },
          "metadata": {},
          "execution_count": 6
        }
      ]
    }
  ]
}